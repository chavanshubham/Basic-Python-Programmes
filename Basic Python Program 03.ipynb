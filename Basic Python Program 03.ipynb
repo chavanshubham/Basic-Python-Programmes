{
 "cells": [
  {
   "cell_type": "markdown",
   "metadata": {},
   "source": [
    "# <h1><center> Basic Python Program 03 </h1></center>"
   ]
  },
  {
   "cell_type": "markdown",
   "metadata": {},
   "source": [
    "### TASK 01. GCD."
   ]
  },
  {
   "cell_type": "code",
   "execution_count": 26,
   "metadata": {},
   "outputs": [
    {
     "name": "stdout",
     "output_type": "stream",
     "text": [
      "GCD of 30 and 45 is: 15\n"
     ]
    }
   ],
   "source": [
    "def gcd(a, b):\n",
    "    adiv = set()\n",
    "    bdiv = set()\n",
    "    for i in range(1, a + 1):\n",
    "        if a % i == 0:\n",
    "            adiv.add(i)\n",
    "    for j in range(1, b + 1):\n",
    "        if b % j == 0:\n",
    "            bdiv.add(j)\n",
    "    return max(adiv & bdiv)\n",
    "\n",
    "a = 30\n",
    "b = 45\n",
    "\n",
    "greatest = gcd(a, b)\n",
    "print(\"GCD of\", a, \"and\", b, \"is:\", greatest)"
   ]
  },
  {
   "cell_type": "markdown",
   "metadata": {},
   "source": [
    "### TASK 02. LCM."
   ]
  },
  {
   "cell_type": "code",
   "execution_count": 2,
   "metadata": {},
   "outputs": [
    {
     "name": "stdout",
     "output_type": "stream",
     "text": [
      "LCM of 100 and 120 is: 600\n"
     ]
    }
   ],
   "source": [
    "def lcm(a, b):\n",
    "    a_multiples = set()\n",
    "    b_multiples = set()\n",
    "    i = 1\n",
    "    while True:\n",
    "        a_multiples.add(a * i)\n",
    "        b_multiples.add(b * i)\n",
    "        if a_multiples & b_multiples:\n",
    "            return a_multiples & b_multiples\n",
    "        else:\n",
    "            i += 1\n",
    "            continue\n",
    "\n",
    "a = 100\n",
    "b = 120\n",
    "\n",
    "lowest = lcm(a, b)\n",
    "for i in lowest:\n",
    "    print(\"LCM of\", a, \"and\", b, \"is:\", i)"
   ]
  },
  {
   "cell_type": "markdown",
   "metadata": {},
   "source": [
    "### TASK 03. Factors."
   ]
  },
  {
   "cell_type": "code",
   "execution_count": 3,
   "metadata": {},
   "outputs": [
    {
     "name": "stdout",
     "output_type": "stream",
     "text": [
      "Factors of 10 are as follows:\n",
      "1\n",
      "2\n",
      "5\n",
      "10\n"
     ]
    }
   ],
   "source": [
    "def factors(num):\n",
    "    factor_list = []\n",
    "    for i in range(1, num + 1):\n",
    "        if num % i == 0:\n",
    "            factor_list.append(i)\n",
    "    return factor_list        \n",
    "\n",
    "num = 10\n",
    "print(\"Factors of\", num, \"are as follows:\")\n",
    "for i in factors(num):\n",
    "    print(i)"
   ]
  },
  {
   "cell_type": "markdown",
   "metadata": {},
   "source": [
    "### TASK 04. arithmetic calculator"
   ]
  },
  {
   "cell_type": "code",
   "execution_count": 4,
   "metadata": {},
   "outputs": [
    {
     "name": "stdin",
     "output_type": "stream",
     "text": [
      "Enter \n",
      "    1 for addition\n",
      "    2 for subtraction\n",
      "    3 for multiplication\n",
      "    4 for division\n",
      " 1\n",
      "Enter value of a 2\n",
      "Enter value of b 3\n"
     ]
    },
    {
     "name": "stdout",
     "output_type": "stream",
     "text": [
      "Answer: 5\n"
     ]
    }
   ],
   "source": [
    "class Calculator:\n",
    "    def __init__(self, a, b):\n",
    "        self.a = a\n",
    "        self.b = b     \n",
    "    def add(a, b):\n",
    "        return a + b\n",
    "    def subtract(a, b):\n",
    "        return a - b\n",
    "    def multiply(a, b):\n",
    "        return a * b\n",
    "    def divide(a, b):\n",
    "        return a / b\n",
    "    \n",
    "if __name__ == '__main__':\n",
    "    \n",
    "    operation = int(input(\"\"\"Enter \n",
    "    1 for addition\n",
    "    2 for subtraction\n",
    "    3 for multiplication\n",
    "    4 for division\\n\"\"\"))\n",
    "\n",
    "    a = int(input(\"Enter value of a\"))\n",
    "    b = int(input(\"Enter value of b\"))\n",
    "\n",
    "    if operation == 1:\n",
    "        answer = Calculator.add(a, b)\n",
    "    elif operation == 2:\n",
    "        answer = Calculator.subtract(a, b)\n",
    "    elif operation == 3:\n",
    "        answer = Calculator.multiply(a, b)\n",
    "    elif operation == 4:\n",
    "        answer = Calculator.divide(a, b)\n",
    "\n",
    "    print(\"Answer:\", answer)"
   ]
  },
  {
   "cell_type": "markdown",
   "metadata": {},
   "source": [
    "### TASK 05. add 2 matrices using list."
   ]
  },
  {
   "cell_type": "code",
   "execution_count": 10,
   "metadata": {},
   "outputs": [
    {
     "name": "stdout",
     "output_type": "stream",
     "text": [
      "[3, 5, 8]\n",
      "[10, 6, 14]\n",
      "[11, 15, 11]\n"
     ]
    }
   ],
   "source": [
    "M1 = [[2, 3, 5],\n",
    "      [6, 1, 8],\n",
    "      [4, 7, 2]]\n",
    "      \n",
    "M2 = [[1, 2, 3],\n",
    "      [4, 5, 6],\n",
    "      [7, 8, 9]]\n",
    "      \n",
    "M3 = [[0, 0, 0],\n",
    "       [0, 0, 0],\n",
    "       [0, 0, 0]]\n",
    "       \n",
    "for i in range(len(M1)):\n",
    "    for j in range(len(M1[0])):\n",
    "        M3[i][j] = M1[i][j] + M2[i][j]\n",
    "        \n",
    "for num in M3:\n",
    "    print(num)"
   ]
  },
  {
   "cell_type": "markdown",
   "metadata": {},
   "source": [
    "### TASK 06. Multiply 2 matrices using list"
   ]
  },
  {
   "cell_type": "code",
   "execution_count": 6,
   "metadata": {},
   "outputs": [
    {
     "name": "stdout",
     "output_type": "stream",
     "text": [
      "[2, 6, 15]\n",
      "[24, 5, 48]\n",
      "[28, 56, 18]\n"
     ]
    }
   ],
   "source": [
    "M1 = [[2, 3, 5],\n",
    "      [6, 1, 8],\n",
    "      [4, 7, 2]]\n",
    "      \n",
    "M2 = [[1, 2, 3],\n",
    "      [4, 5, 6],\n",
    "      [7, 8, 9]]\n",
    "      \n",
    "M3 = [[0, 0, 0],\n",
    "       [0, 0, 0],\n",
    "       [0, 0, 0]]\n",
    "       \n",
    "for i in range(len(M1)):\n",
    "    for j in range(len(M1[0])):\n",
    "        M3[i][j] = M1[i][j] * M2[i][j]\n",
    "        \n",
    "for num in M3:\n",
    "    print(num)"
   ]
  },
  {
   "cell_type": "markdown",
   "metadata": {},
   "source": [
    "### TASK 07. Check if string palindrome."
   ]
  },
  {
   "cell_type": "code",
   "execution_count": 8,
   "metadata": {},
   "outputs": [
    {
     "name": "stdout",
     "output_type": "stream",
     "text": [
      "Enter a string:\n",
      "tenet\n",
      "tenet is palindrome! \n"
     ]
    }
   ],
   "source": [
    "line = input(\"Enter a string:\\n\")\n",
    "\n",
    "line_reverse = line[::-1]\n",
    "\n",
    "if line_reverse.lower() == line.lower():\n",
    "   print(line,\"is a palindrome! \")\n",
    "else:\n",
    "    print(line,\"is not a palindrome! \")"
   ]
  },
  {
   "cell_type": "markdown",
   "metadata": {},
   "source": [
    "### TASK 08. Different set operations."
   ]
  },
  {
   "cell_type": "code",
   "execution_count": 9,
   "metadata": {},
   "outputs": [
    {
     "name": "stdout",
     "output_type": "stream",
     "text": [
      "Union: {2, 5, 9, 11, 19, 22}\n",
      "Intersection: {19, 5}\n",
      "Difference: {11, 22}\n",
      "Symmetric difference: {2, 9, 11, 22}\n"
     ]
    }
   ],
   "source": [
    "set1 = {11, 19, 22, 5}\n",
    "set2 = {9, 19, 2, 5}\n",
    "\n",
    "print(\"Union:\",set1 | set2)\n",
    "\n",
    "print(\"Intersection:\",set1 & set2)\n",
    "\n",
    "print(\"Difference:\",set1 - set2)\n",
    "\n",
    "print(\"Symmetric difference:\",set1 ^ set2)"
   ]
  },
  {
   "cell_type": "markdown",
   "metadata": {},
   "source": [
    "### TASK 09. Cube of 2 using module."
   ]
  },
  {
   "cell_type": "code",
   "execution_count": 11,
   "metadata": {},
   "outputs": [
    {
     "name": "stdout",
     "output_type": "stream",
     "text": [
      "Cube of 2 is 8.0\n"
     ]
    }
   ],
   "source": [
    "import math\n",
    "\n",
    "print(\"Cube of 2 is {}\".format(math.pow(2, 3)))"
   ]
  },
  {
   "cell_type": "code",
   "execution_count": null,
   "metadata": {},
   "outputs": [],
   "source": []
  }
 ],
 "metadata": {
  "kernelspec": {
   "display_name": "Python 3",
   "language": "python",
   "name": "python3"
  },
  "language_info": {
   "codemirror_mode": {
    "name": "ipython",
    "version": 3
   },
   "file_extension": ".py",
   "mimetype": "text/x-python",
   "name": "python",
   "nbconvert_exporter": "python",
   "pygments_lexer": "ipython3",
   "version": "3.8.6"
  }
 },
 "nbformat": 4,
 "nbformat_minor": 4
}
