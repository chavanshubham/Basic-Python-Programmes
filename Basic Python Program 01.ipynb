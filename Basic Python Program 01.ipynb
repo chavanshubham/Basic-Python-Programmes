{
 "cells": [
  {
   "cell_type": "markdown",
   "metadata": {},
   "source": [
    "# <h1><center> Basic Python Program 01 </h1></center>"
   ]
  },
  {
   "cell_type": "markdown",
   "metadata": {},
   "source": [
    "### TASK 01 "
   ]
  },
  {
   "cell_type": "code",
   "execution_count": 19,
   "metadata": {},
   "outputs": [
    {
     "name": "stdout",
     "output_type": "stream",
     "text": [
      "Please enter a number:\n",
      "6\n",
      "Weird\n"
     ]
    }
   ],
   "source": [
    "num = 0\n",
    "while True:\n",
    "    try:\n",
    "        num = int(input('Please enter a number:\\n'))\n",
    "        break\n",
    "    except:\n",
    "        print(\"Please enter a numeric value.\")\n",
    " \n",
    "num = abs(num)\n",
    "remainder = num % 2\n",
    "\n",
    "#if number is odd\n",
    "if remainder != 0:\n",
    "    print(\"Weird\")\n",
    "# if number is even \n",
    "else:\n",
    "    # number inclusive range 2 to 5\n",
    "    if num < 6:\n",
    "        print(\"Not Weird\")\n",
    "    # number inclusive range 6 to 20\n",
    "    elif num < 21:\n",
    "        print(\"Weird\")\n",
    "    # number greater than 20\n",
    "    else:\n",
    "        print(\"Not Weird\")\n",
    "        \n"
   ]
  },
  {
   "cell_type": "markdown",
   "metadata": {},
   "source": [
    "### TASK 02\n",
    "#### for a number N, for all positive i < N, print i^2\n",
    "#### done on same number entered above"
   ]
  },
  {
   "cell_type": "code",
   "execution_count": 21,
   "metadata": {},
   "outputs": [
    {
     "name": "stdout",
     "output_type": "stream",
     "text": [
      "Number: 0, Square: 0\n",
      "Number: 1, Square: 1\n",
      "Number: 2, Square: 4\n",
      "Number: 3, Square: 9\n",
      "Number: 4, Square: 16\n",
      "Number: 5, Square: 25\n"
     ]
    }
   ],
   "source": [
    "i = 0\n",
    "while i < num:\n",
    "    print(\"Number: %i, Square: %i\" % (i, i * i))\n",
    "    i += 1"
   ]
  },
  {
   "cell_type": "markdown",
   "metadata": {},
   "source": [
    "### TASK 03\n",
    "#### accept year, check if it is a leap year"
   ]
  },
  {
   "cell_type": "code",
   "execution_count": 26,
   "metadata": {},
   "outputs": [
    {
     "name": "stdout",
     "output_type": "stream",
     "text": [
      "Please enter a year to check:\n",
      "0\n",
      "The year 0 is a leap year\n"
     ]
    }
   ],
   "source": [
    "year = 0\n",
    "while True:\n",
    "    try:\n",
    "        year = int(input('Please enter a year to check:\\n'))\n",
    "        break\n",
    "    except:\n",
    "        print(\"Please enter a numeric value.\")\n",
    " \n",
    "year = abs(year)\n",
    "\n",
    "leap_check = year % 4\n",
    "\n",
    "if leap_check == 0:\n",
    "    print(\"The year %i is a leap year\" % year)\n",
    "else:\n",
    "    print(\"The year %i is not a leap year\" % year)"
   ]
  },
  {
   "cell_type": "markdown",
   "metadata": {},
   "source": [
    "### TASK 04 \n",
    "#### List operations"
   ]
  },
  {
   "cell_type": "code",
   "execution_count": 65,
   "metadata": {},
   "outputs": [
    {
     "name": "stdout",
     "output_type": "stream",
     "text": [
      "Enter element to add to list:\n",
      "4\n",
      "Enter element to add to list:\n",
      "done\n"
     ]
    }
   ],
   "source": [
    "# make your own list\n",
    "your_list = []\n",
    "# add elements to the list. write done to exit.\n",
    "while True:\n",
    "    try:\n",
    "        entry = input('Enter element to add to list:\\n')\n",
    "        if entry == \"done\" or entry == \"Done\":\n",
    "            break\n",
    "        entry = int(entry)\n",
    "        your_list.append(entry)\n",
    "    except:\n",
    "        print(\"Please enter a numeric value.\")"
   ]
  },
  {
   "cell_type": "code",
   "execution_count": 69,
   "metadata": {},
   "outputs": [
    {
     "name": "stdout",
     "output_type": "stream",
     "text": [
      "Your list is  [4]\n"
     ]
    }
   ],
   "source": [
    "# print the list\n",
    "print(\"Your list is \" , your_list)"
   ]
  },
  {
   "cell_type": "code",
   "execution_count": 70,
   "metadata": {},
   "outputs": [
    {
     "name": "stdout",
     "output_type": "stream",
     "text": [
      "[5, 10, 40, 9, 55, 4, 5, 6, 76, 34, 5]\n"
     ]
    }
   ],
   "source": [
    "# List operations - new list\n",
    "integers = [5, 10,40, 9, 55, 4, 5, 6, 76, 34, 5]\n",
    "print(integers)"
   ]
  },
  {
   "cell_type": "code",
   "execution_count": 73,
   "metadata": {},
   "outputs": [
    {
     "name": "stdout",
     "output_type": "stream",
     "text": [
      "[10, 55, 55, 55, 4, 5, 6, 76, 34, 5]\n"
     ]
    }
   ],
   "source": [
    "# insert into the list at index 2\n",
    "integers[2] = 55\n",
    "print(integers) "
   ]
  },
  {
   "cell_type": "code",
   "execution_count": 74,
   "metadata": {},
   "outputs": [],
   "source": [
    "# removing first occurence of 5 from list\n",
    "integers.remove(5)"
   ]
  },
  {
   "cell_type": "code",
   "execution_count": 75,
   "metadata": {},
   "outputs": [
    {
     "name": "stdout",
     "output_type": "stream",
     "text": [
      "[10, 55, 55, 55, 4, 6, 76, 34, 5]\n"
     ]
    }
   ],
   "source": [
    "print(integers)"
   ]
  },
  {
   "cell_type": "code",
   "execution_count": 76,
   "metadata": {},
   "outputs": [
    {
     "name": "stdout",
     "output_type": "stream",
     "text": [
      "[10, 55, 55, 55, 4, 6, 76, 34, 5, 10]\n"
     ]
    }
   ],
   "source": [
    "# append to end of list\n",
    "integers.append(10)\n",
    "print(integers)"
   ]
  },
  {
   "cell_type": "code",
   "execution_count": 77,
   "metadata": {},
   "outputs": [
    {
     "name": "stdout",
     "output_type": "stream",
     "text": [
      "[4, 5, 6, 10, 10, 34, 55, 55, 55, 76]\n"
     ]
    }
   ],
   "source": [
    "# sort the list in ascending order\n",
    "integers.sort()\n",
    "print(integers)"
   ]
  },
  {
   "cell_type": "code",
   "execution_count": 78,
   "metadata": {},
   "outputs": [
    {
     "name": "stdout",
     "output_type": "stream",
     "text": [
      "[4, 5, 6, 10, 10, 34, 55, 55, 55]\n",
      "76\n"
     ]
    }
   ],
   "source": [
    "# pop last element from list\n",
    "popped = integers.pop()\n",
    "print(integers)\n",
    "print(popped)"
   ]
  },
  {
   "cell_type": "code",
   "execution_count": 79,
   "metadata": {},
   "outputs": [
    {
     "name": "stdout",
     "output_type": "stream",
     "text": [
      "[55, 55, 55, 34, 10, 10, 6, 5, 4]\n"
     ]
    }
   ],
   "source": [
    "# reverse the list\n",
    "integers.sort(reverse = True)\n",
    "print(integers)"
   ]
  },
  {
   "cell_type": "markdown",
   "metadata": {},
   "source": [
    "### TASK 05"
   ]
  },
  {
   "cell_type": "code",
   "execution_count": 94,
   "metadata": {},
   "outputs": [
    {
     "name": "stdout",
     "output_type": "stream",
     "text": [
      "Average height of the plants is  5.9\n"
     ]
    }
   ],
   "source": [
    "number_of_plants = \"10\"\n",
    "height = \"4 5 7 8 2 4 5 8 7 9\"\n",
    "height = height.split()\n",
    "total = 0\n",
    "number_of_plants = int(number_of_plants)\n",
    "for i in height:\n",
    "    total += int(i)\n",
    "average = total / number_of_plants\n",
    "print(\"Average height of the plants is \", average)"
   ]
  },
  {
   "cell_type": "markdown",
   "metadata": {},
   "source": [
    "### TASK 06 string spilt and join"
   ]
  },
  {
   "cell_type": "code",
   "execution_count": 99,
   "metadata": {},
   "outputs": [
    {
     "name": "stdout",
     "output_type": "stream",
     "text": [
      "Tango-Charlie-Alpha\n"
     ]
    }
   ],
   "source": [
    "line = \"Tango Charlie Alpha\"\n",
    "line = line.split()\n",
    "s = \"-\"\n",
    "s = s.join(line)\n",
    "print(s)"
   ]
  },
  {
   "cell_type": "markdown",
   "metadata": {},
   "source": [
    "### TASK 07 100 years in year?"
   ]
  },
  {
   "cell_type": "code",
   "execution_count": 100,
   "metadata": {},
   "outputs": [
    {
     "name": "stdout",
     "output_type": "stream",
     "text": [
      "Please enter your name:\n",
      "shubham\n",
      "Please enter your age:\n",
      "30\n",
      "shubham  will turn hundred years old in 2090\n"
     ]
    }
   ],
   "source": [
    "name = input(\"Please enter your name:\\n\")\n",
    "age = 0\n",
    "while True:\n",
    "    try:\n",
    "        age = int(input('Please enter your age:\\n'))\n",
    "        break\n",
    "    except:\n",
    "        print(\"Please enter a numeric value.\")\n",
    "        \n",
    "hundred = (100 - age) + 2020\n",
    "print(name,\" will turn hundred years old in\", hundred)"
   ]
  },
  {
   "cell_type": "markdown",
   "metadata": {},
   "source": [
    "### TASK 08"
   ]
  },
  {
   "cell_type": "code",
   "execution_count": 6,
   "metadata": {},
   "outputs": [
    {
     "name": "stdout",
     "output_type": "stream",
     "text": [
      "Please enter a number:\n",
      "4\n",
      "Please enter a number to divide by:\n",
      "4\n",
      "4 is divided perfectly by 4.\n"
     ]
    }
   ],
   "source": [
    "num = 0\n",
    "while True:\n",
    "    try:\n",
    "        num = int(input('Please enter a number:\\n'))\n",
    "        break\n",
    "    except:\n",
    "        print(\"Please enter a numeric value.\")\n",
    " \n",
    "check = 0\n",
    "while True:\n",
    "    try:\n",
    "        check = int(input('Please enter a number to divide by:\\n'))\n",
    "        break\n",
    "    except:\n",
    "        print(\"Please enter a numeric value.\")\n",
    " \n",
    "division = num % check\n",
    "if division == 0:\n",
    "    print(\"{} is divided perfectly by {}.\".format(num, check))\n",
    "else:\n",
    "    print('{} is not a perfect divisor of {}'.format(check, num))"
   ]
  },
  {
   "cell_type": "markdown",
   "metadata": {},
   "source": [
    "### TASK 09"
   ]
  },
  {
   "cell_type": "code",
   "execution_count": 13,
   "metadata": {},
   "outputs": [
    {
     "name": "stdout",
     "output_type": "stream",
     "text": [
      "Please enter a number:\n",
      "10\n",
      "Divisors:\n",
      "1\n",
      "2\n",
      "5\n",
      "10\n"
     ]
    }
   ],
   "source": [
    "number = 0\n",
    "while True:\n",
    "    try:\n",
    "        number = int(input('Please enter a number:\\n'))\n",
    "        break\n",
    "    except:\n",
    "        print(\"Please enter a numeric value.\")\n",
    "\n",
    "print(\"Divisors:\")\n",
    "k = 1\n",
    "while k <= number:\n",
    "    if number % k == 0:\n",
    "        print(k)\n",
    "    k += 1\n"
   ]
  },
  {
   "cell_type": "code",
   "execution_count": null,
   "metadata": {},
   "outputs": [],
   "source": []
  }
 ],
 "metadata": {
  "kernelspec": {
   "display_name": "Python 3",
   "language": "python",
   "name": "python3"
  },
  "language_info": {
   "codemirror_mode": {
    "name": "ipython",
    "version": 3
   },
   "file_extension": ".py",
   "mimetype": "text/x-python",
   "name": "python",
   "nbconvert_exporter": "python",
   "pygments_lexer": "ipython3",
   "version": "3.8.6"
  }
 },
 "nbformat": 4,
 "nbformat_minor": 4
}
