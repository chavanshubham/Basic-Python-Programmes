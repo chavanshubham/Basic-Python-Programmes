{
 "cells": [
  {
   "cell_type": "markdown",
   "metadata": {},
   "source": [
    "# <h1><center> Basic Python Program 02 </h1></center>"
   ]
  },
  {
   "cell_type": "markdown",
   "metadata": {},
   "source": [
    "### TASK 01"
   ]
  },
  {
   "cell_type": "code",
   "execution_count": 1,
   "metadata": {},
   "outputs": [],
   "source": [
    "import math"
   ]
  },
  {
   "cell_type": "code",
   "execution_count": 3,
   "metadata": {},
   "outputs": [
    {
     "name": "stdin",
     "output_type": "stream",
     "text": [
      "Please enter a number:\n",
      " 10\n"
     ]
    },
    {
     "name": "stdout",
     "output_type": "stream",
     "text": [
      "3.1622776601683795\n"
     ]
    }
   ],
   "source": [
    "num = 0\n",
    "while True:\n",
    "    try:\n",
    "        num = int(input('Please enter a number:\\n'))\n",
    "        break\n",
    "    except:\n",
    "        print(\"Please enter a numeric value.\")\n",
    "\n",
    "num = abs(num)\n",
    "print(math.sqrt(num))"
   ]
  },
  {
   "cell_type": "markdown",
   "metadata": {},
   "source": [
    "### TASK 02. swapping variables without third."
   ]
  },
  {
   "cell_type": "code",
   "execution_count": 5,
   "metadata": {},
   "outputs": [
    {
     "name": "stdout",
     "output_type": "stream",
     "text": [
      "x =  3 ; y =  2\n"
     ]
    }
   ],
   "source": [
    "x = 2\n",
    "y = 3\n",
    "\n",
    "x, y = y, x\n",
    "\n",
    "print(\"x = \", x, \"; y = \", y)"
   ]
  },
  {
   "cell_type": "markdown",
   "metadata": {},
   "source": [
    "### TASK 03"
   ]
  },
  {
   "cell_type": "code",
   "execution_count": 7,
   "metadata": {},
   "outputs": [
    {
     "name": "stdout",
     "output_type": "stream",
     "text": [
      "Please enter range start:\n",
      "10\n",
      "Please enter range end:\n",
      "20\n",
      "Random number:  14\n"
     ]
    }
   ],
   "source": [
    "import random\n",
    "\n",
    "low = 0\n",
    "while True:\n",
    "    try:\n",
    "        low = int(input('Please enter range start:\\n'))\n",
    "        break\n",
    "    except:\n",
    "        print(\"Please enter a numeric value.\")\n",
    "        \n",
    "high = 0\n",
    "while True:\n",
    "    try:\n",
    "        high = int(input('Please enter range end:\\n'))\n",
    "        break\n",
    "    except:\n",
    "        print(\"Please enter a numeric value.\")\n",
    "        \n",
    "randomnum = random.randrange(low, high)\n",
    "print(\"Random number: \",randomnum)\n",
    " "
   ]
  },
  {
   "cell_type": "markdown",
   "metadata": {},
   "source": [
    "### TASK 04 prime number in a range"
   ]
  },
  {
   "cell_type": "code",
   "execution_count": 8,
   "metadata": {},
   "outputs": [
    {
     "name": "stdout",
     "output_type": "stream",
     "text": [
      "23\n",
      "29\n",
      "31\n",
      "37\n",
      "41\n",
      "43\n",
      "47\n"
     ]
    }
   ],
   "source": [
    "begin = 20\n",
    "end = 50\n",
    " \n",
    "for i in range(begin, end):\n",
    "  if i>1:\n",
    "    for j in range(2, i):\n",
    "        if(i % j == 0):\n",
    "            break\n",
    "    else:\n",
    "        print(i)"
   ]
  },
  {
   "cell_type": "markdown",
   "metadata": {},
   "source": [
    "### TASK 05 fibonacci sequence"
   ]
  },
  {
   "cell_type": "code",
   "execution_count": 11,
   "metadata": {},
   "outputs": [
    {
     "name": "stdout",
     "output_type": "stream",
     "text": [
      "How many elements?4\n",
      "Fibonacci sequence:\n",
      "0\n",
      "1\n",
      "1\n",
      "2\n"
     ]
    }
   ],
   "source": [
    "# Fibonacci sequence up to n-th element\n",
    "\n",
    "n = int(input(\"How many elements?\"))\n",
    "\n",
    "# first two elements\n",
    "n1, n2 = 0, 1\n",
    "count = 0\n",
    "\n",
    "# check if the number of elements is valid\n",
    "if n <= 0:\n",
    "   print(\"Please enter a positive integer\")\n",
    "elif n == 1:\n",
    "   print(\"Fibonacci sequence upto\",n,\":\")\n",
    "   print(n1)\n",
    "else:\n",
    "   print(\"Fibonacci sequence:\")\n",
    "   while count < n:\n",
    "       print(n1)\n",
    "       nth = n1 + n2\n",
    "       # update values\n",
    "       n1 = n2\n",
    "       n2 = nth\n",
    "       count += 1"
   ]
  },
  {
   "cell_type": "markdown",
   "metadata": {},
   "source": [
    "### TASK 06 check for armstrong number. only 3 digit numbers."
   ]
  },
  {
   "cell_type": "code",
   "execution_count": 17,
   "metadata": {},
   "outputs": [
    {
     "name": "stdout",
     "output_type": "stream",
     "text": [
      "Enter a 3 digit number: 250\n",
      "250 is not an Armstrong number\n"
     ]
    }
   ],
   "source": [
    "num = int(input(\"Enter a 3 digit number: \"))\n",
    "\n",
    "sum = 0\n",
    "\n",
    "t = num\n",
    "while t > 0:\n",
    "   digit = t % 10\n",
    "   sum += digit ** 3\n",
    "   t //= 10\n",
    "\n",
    "if num == sum:\n",
    "   print(num,\"is an Armstrong number\")\n",
    "else:\n",
    "   print(num,\"is not an Armstrong number\")"
   ]
  },
  {
   "cell_type": "markdown",
   "metadata": {},
   "source": [
    "### TASK 07 arstrong number in an interval."
   ]
  },
  {
   "cell_type": "code",
   "execution_count": 27,
   "metadata": {},
   "outputs": [
    {
     "name": "stdout",
     "output_type": "stream",
     "text": [
      "Enter interval start: \n",
      "1\n",
      "Enter interval end: \n",
      "1000\n",
      "Armstrong numbers in the interval:\n",
      "1\n",
      "2\n",
      "3\n",
      "4\n",
      "5\n",
      "6\n",
      "7\n",
      "8\n",
      "9\n",
      "153\n",
      "370\n",
      "371\n",
      "407\n"
     ]
    }
   ],
   "source": [
    "start = int(input(\"Enter interval start: \\n\"))\n",
    "end = int(input(\"Enter interval end: \\n\"))\n",
    "\n",
    "print(\"Armstrong numbers in the interval:\")\n",
    "\n",
    "while start <= end:\n",
    "    sum = 0\n",
    "    t = start\n",
    "    check = start\n",
    "    \n",
    "    digit_count = 0\n",
    "    while check > 0:\n",
    "        digit_count += 1\n",
    "        check //= 10\n",
    "    \n",
    "    while t > 0:\n",
    "        digit = t % 10\n",
    "        sum += digit ** digit_count\n",
    "        t //= 10\n",
    "    \n",
    "    if sum == start:\n",
    "        print(start)\n",
    "    start += 1\n"
   ]
  },
  {
   "cell_type": "markdown",
   "metadata": {},
   "source": [
    "### TASK 08 powers of 2 using anonymous functions"
   ]
  },
  {
   "cell_type": "code",
   "execution_count": 35,
   "metadata": {},
   "outputs": [
    {
     "name": "stdout",
     "output_type": "stream",
     "text": [
      "2 raise to 0 is 1\n",
      "2 raise to 1 is 2\n",
      "2 raise to 2 is 4\n",
      "2 raise to 3 is 8\n",
      "2 raise to 4 is 16\n",
      "2 raise to 5 is 32\n",
      "2 raise to 6 is 64\n",
      "2 raise to 7 is 128\n",
      "2 raise to 8 is 256\n",
      "2 raise to 9 is 512\n",
      "2 raise to 10 is 1024\n"
     ]
    }
   ],
   "source": [
    "upto = 10\n",
    "powers = list(map(lambda x: 2 ** x, range(upto + 1)))\n",
    "\n",
    "for i in range(upto + 1):\n",
    "    print(\"2 raise to\", i, \"is\", powers[i])"
   ]
  },
  {
   "cell_type": "markdown",
   "metadata": {},
   "source": [
    "### TASK 09 "
   ]
  },
  {
   "cell_type": "code",
   "execution_count": null,
   "metadata": {},
   "outputs": [],
   "source": [
    "# ASCII of character"
   ]
  },
  {
   "cell_type": "code",
   "execution_count": 39,
   "metadata": {},
   "outputs": [
    {
     "name": "stdout",
     "output_type": "stream",
     "text": [
      "Please enter a single character:\n",
      "33\n",
      "Please enter a single character.\n",
      "Please enter a single character:\n",
      "@\n",
      "ASCII code of @ is 64\n"
     ]
    }
   ],
   "source": [
    "char = 0\n",
    "while True:\n",
    "    try:\n",
    "        char = input('Please enter a single character:\\n')\n",
    "        char_code = ord(char)\n",
    "        break\n",
    "    except:\n",
    "        print(\"Please enter a single character.\")\n",
    "print(\"ASCII code of\", char, \"is\", char_code)"
   ]
  },
  {
   "cell_type": "code",
   "execution_count": null,
   "metadata": {},
   "outputs": [],
   "source": [
    "# character from ASCII"
   ]
  },
  {
   "cell_type": "code",
   "execution_count": null,
   "metadata": {},
   "outputs": [],
   "source": [
    "code = 0\n",
    "while True:\n",
    "    try:\n",
    "        code = int(input('Please enter a ASCII code:\\n'))\n",
    "        character = chr(code)\n",
    "        break\n",
    "    except:\n",
    "        print(\"Please enter proper ASCII code.\")\n",
    "print(\"Character with ASCII code\", code, \"is\", character)"
   ]
  },
  {
   "cell_type": "code",
   "execution_count": null,
   "metadata": {},
   "outputs": [],
   "source": []
  }
 ],
 "metadata": {
  "kernelspec": {
   "display_name": "Python 3",
   "language": "python",
   "name": "python3"
  },
  "language_info": {
   "codemirror_mode": {
    "name": "ipython",
    "version": 3
   },
   "file_extension": ".py",
   "mimetype": "text/x-python",
   "name": "python",
   "nbconvert_exporter": "python",
   "pygments_lexer": "ipython3",
   "version": "3.8.6"
  }
 },
 "nbformat": 4,
 "nbformat_minor": 4
}
