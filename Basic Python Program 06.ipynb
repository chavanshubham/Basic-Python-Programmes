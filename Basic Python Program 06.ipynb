{
 "cells": [
  {
   "cell_type": "markdown",
   "metadata": {},
   "source": [
    "# <h1><center> Basic Python Program 06 </h1></center>"
   ]
  },
  {
   "cell_type": "code",
   "execution_count": 1,
   "metadata": {},
   "outputs": [],
   "source": [
    "# import pandas and numpy\n",
    "\n",
    "import pandas as pd\n",
    "import numpy as np"
   ]
  },
  {
   "cell_type": "markdown",
   "metadata": {},
   "source": [
    "### TASK 01. Write a Pandas program to add, subtract, multiplyb and divide two Pandas Series."
   ]
  },
  {
   "cell_type": "code",
   "execution_count": 2,
   "metadata": {},
   "outputs": [
    {
     "name": "stdout",
     "output_type": "stream",
     "text": [
      "a + b:\n",
      "0     7\n",
      "1     9\n",
      "2    11\n",
      "3    13\n",
      "4     8\n",
      "dtype: int64\n",
      "\n",
      "a - b:\n",
      "0   -5\n",
      "1   -5\n",
      "2   -5\n",
      "3   -5\n",
      "4    2\n",
      "dtype: int64\n",
      "\n",
      "a * b:\n",
      "0     6\n",
      "1    14\n",
      "2    24\n",
      "3    36\n",
      "4    15\n",
      "dtype: int64\n",
      "\n",
      "a / b:\n",
      "0    0.166667\n",
      "1    0.285714\n",
      "2    0.375000\n",
      "3    0.444444\n",
      "4    1.666667\n",
      "dtype: float64\n"
     ]
    }
   ],
   "source": [
    "a = pd.Series([1,2,3,4,5])\n",
    "b = pd.Series([6,7,8,9,3])\n",
    "\n",
    "print('a + b:')\n",
    "print(a + b) #add\n",
    "print('\\na - b:')\n",
    "print(a - b) #sub\n",
    "print('\\na * b:')\n",
    "print(a*b) #mul\n",
    "print('\\na / b:')\n",
    "print(a / b) #div"
   ]
  },
  {
   "cell_type": "markdown",
   "metadata": {},
   "source": [
    "### TASK 02. Write a Pandas program to compare the elements of the two Pandas Series."
   ]
  },
  {
   "cell_type": "code",
   "execution_count": 3,
   "metadata": {},
   "outputs": [
    {
     "name": "stdout",
     "output_type": "stream",
     "text": [
      "Compare the elements of the said Series:\n",
      "Equals:\n",
      "0    False\n",
      "1    False\n",
      "2    False\n",
      "3    False\n",
      "4    False\n",
      "dtype: bool\n",
      "Greater than:\n",
      "0    False\n",
      "1     True\n",
      "2    False\n",
      "3    False\n",
      "4     True\n",
      "dtype: bool\n",
      "Less than:\n",
      "0     True\n",
      "1    False\n",
      "2     True\n",
      "3     True\n",
      "4    False\n",
      "dtype: bool\n"
     ]
    }
   ],
   "source": [
    "import pandas as pd\n",
    "s1 = pd.Series([1, 4, 5, 7, 9]) \n",
    "s2 = pd.Series([6, 1, 8, 9, 2]) \n",
    "print(\"Compare the elements of the said Series:\")\n",
    "print(\"Equals:\")\n",
    "print(s1 == s2)\n",
    "print(\"Greater than:\")\n",
    "print(s1 > s2)\n",
    "print(\"Less than:\")\n",
    "print(s1 < s2)"
   ]
  },
  {
   "cell_type": "markdown",
   "metadata": {},
   "source": [
    "### TASK 03. Write a Pandas program to convert a dictionary and a NumPy array to a Pandas series and to convert a given Series to an array."
   ]
  },
  {
   "cell_type": "code",
   "execution_count": 5,
   "metadata": {},
   "outputs": [
    {
     "name": "stdout",
     "output_type": "stream",
     "text": [
      "Dictionary:  {1: 'q', 2: 'w', 3: 'e', 4: 'r', 5: 't', 6: 'y'}\n",
      "\n",
      "Numpy array [100 200 300 400 500]\n",
      "\n",
      "Dictionary to Series:\n",
      "1    q\n",
      "2    w\n",
      "3    e\n",
      "4    r\n",
      "5    t\n",
      "6    y\n",
      "dtype: object\n",
      "\n",
      "Numpy Array to Series:\n",
      "0    100\n",
      "1    200\n",
      "2    300\n",
      "3    400\n",
      "4    500\n",
      "dtype: int64\n"
     ]
    }
   ],
   "source": [
    "a = {1 : 'q', 2 : 'w', 3 : 'e', 4 : 'r', 5 : 't', 6 : 'y'} #Dictionary\n",
    "print('Dictionary: ',a)\n",
    "\n",
    "b = np.array([100, 200, 300, 400, 500]) # Numpy ndarray\n",
    "print('\\nNumpy array',b)\n",
    "\n",
    "x = pd.Series(a) # Dictionary to Pandas Series\n",
    "y = pd.Series(b) # Numpy ndarray to Pandas Series\n",
    "\n",
    "print('\\nDictionary to Series:')\n",
    "print(x)\n",
    "print('\\nNumpy Array to Series:')\n",
    "print(y)"
   ]
  },
  {
   "cell_type": "markdown",
   "metadata": {},
   "source": [
    "### TASK 04. Write a Pandas program to create the mean and standard deviation of the data of a given Series."
   ]
  },
  {
   "cell_type": "code",
   "execution_count": 6,
   "metadata": {},
   "outputs": [
    {
     "name": "stdout",
     "output_type": "stream",
     "text": [
      "0      1\n",
      "1      2\n",
      "2      3\n",
      "3      4\n",
      "4      5\n",
      "5      6\n",
      "6      7\n",
      "7      8\n",
      "8      9\n",
      "9     10\n",
      "10    11\n",
      "dtype: int64\n",
      "\n",
      "Mean of the above mentioned Data series is\n",
      "6.0\n",
      "\n",
      "Standard deviation of the above mentioned Data series is\n",
      "3.3166247903554\n"
     ]
    }
   ],
   "source": [
    "s = pd.Series(data = [1, 2, 3, 4, 5, 6, 7, 8, 9, 10, 11])\n",
    "print(s)\n",
    "print(\"\\nMean of the above mentioned Data series is\")\n",
    "print(s.mean())\n",
    "print(\"\\nStandard deviation of the above mentioned Data series is\")\n",
    "print(s.std())"
   ]
  },
  {
   "cell_type": "markdown",
   "metadata": {},
   "source": [
    "### TASK 05. Write a Pandas program to calculate the frequency counts of each unique value of a given series."
   ]
  },
  {
   "cell_type": "code",
   "execution_count": 10,
   "metadata": {},
   "outputs": [
    {
     "name": "stdout",
     "output_type": "stream",
     "text": [
      "0     2\n",
      "1     5\n",
      "2     9\n",
      "3     8\n",
      "4     4\n",
      "5     1\n",
      "6     0\n",
      "7     5\n",
      "8     5\n",
      "9     8\n",
      "10    4\n",
      "11    7\n",
      "12    8\n",
      "13    5\n",
      "14    7\n",
      "dtype: int64\n",
      "\n",
      "Total unique values are:\n",
      "8\n",
      "\n",
      "Frequency of each unique value of the series is \n",
      "5    4\n",
      "8    3\n",
      "7    2\n",
      "4    2\n",
      "9    1\n",
      "2    1\n",
      "1    1\n",
      "0    1\n",
      "dtype: int64\n"
     ]
    }
   ],
   "source": [
    "nums = pd.Series(np.random.randint(10, size=15)) # create random series\n",
    "print(nums)\n",
    "print('\\nTotal unique values are:')\n",
    "print(nums.nunique())\n",
    "print(\"\\nFrequency of each unique value of the series is \")\n",
    "result = nums.value_counts()\n",
    "print(result)"
   ]
  },
  {
   "cell_type": "markdown",
   "metadata": {},
   "source": [
    "### TASK 06. Write a Pandas program to calculate the number of characters in each word in a given series."
   ]
  },
  {
   "cell_type": "code",
   "execution_count": 11,
   "metadata": {},
   "outputs": [
    {
     "name": "stdout",
     "output_type": "stream",
     "text": [
      "Original Series:\n",
      "0         Alpha\n",
      "1          Beta\n",
      "2          John\n",
      "3    Suryakumar\n",
      "dtype: object\n",
      "\n",
      " Number of characters in each word in the said series is\n",
      "0     5\n",
      "1     4\n",
      "2     4\n",
      "3    10\n",
      "dtype: int64\n"
     ]
    }
   ],
   "source": [
    "words = pd.Series(['Alpha' , 'Beta', 'John', 'Suryakumar'])\n",
    "print(\"Original Series:\")\n",
    "print(words)\n",
    "result = words.map(lambda x: len(x))\n",
    "print(\"\\n Number of characters in each word in the said series is\")\n",
    "print(result)"
   ]
  },
  {
   "cell_type": "markdown",
   "metadata": {},
   "source": [
    "### TASK 07. Write a Pandas program to count the number of rows and columns of a DataFrame."
   ]
  },
  {
   "cell_type": "code",
   "execution_count": 14,
   "metadata": {},
   "outputs": [
    {
     "name": "stdout",
     "output_type": "stream",
     "text": [
      "        name  score  attempts qualify index\n",
      "0  Anastasia   12.5         1     yes     a\n",
      "1       Dima    9.0         3      no     b\n",
      "2  Katherine   16.5         2     yes     c\n",
      "3      James    NaN         3      no     d\n",
      "4      Emily    9.0         2      no     e\n",
      "5    Michael   20.0         3     yes     f\n",
      "6    Matthew   14.5         1     yes     g\n",
      "7      Laura    NaN         1      no     h\n",
      "8      Kevin    8.0         2      no     i\n",
      "9      Jonas   19.0         1     yes     j \n",
      "\n",
      "Number of Rows: 10\n",
      "Number of Columns: 5\n"
     ]
    }
   ],
   "source": [
    "exam_data  = {'name': ['Anastasia', 'Dima', 'Katherine', 'James', 'Emily', 'Michael', 'Matthew', 'Laura', 'Kevin', 'Jonas'],\n",
    "        'score': [12.5, 9, 16.5, np.nan, 9, 20, 14.5, np.nan, 8, 19],\n",
    "        'attempts': [1, 3, 2, 3, 2, 3, 1, 1, 2, 1],\n",
    "        'qualify': ['yes', 'no', 'yes', 'no', 'no', 'yes', 'yes', 'no', 'no', 'yes'],\n",
    "        'index': ['a', 'b', 'c', 'd', 'e', 'f', 'g', 'h', 'i', 'j']} \n",
    "a = pd.DataFrame(exam_data)\n",
    "print(a, '\\n')\n",
    "rows = len(a.axes[0])\n",
    "cols = len(a.axes[1])\n",
    "print(\"Number of Rows:\", str(rows))\n",
    "print(\"Number of Columns:\", str(cols))"
   ]
  },
  {
   "cell_type": "markdown",
   "metadata": {},
   "source": [
    "### TASK 08. Write a Pandas program to delete the 'attempts' column from the DataFrame."
   ]
  },
  {
   "cell_type": "code",
   "execution_count": 18,
   "metadata": {},
   "outputs": [
    {
     "name": "stdout",
     "output_type": "stream",
     "text": [
      "Original:\n",
      "        name  score  attempts qualify\n",
      "a  Anastasia   12.5         1     yes\n",
      "b       Dima    9.0         3      no\n",
      "c  Katherine   16.5         2     yes\n",
      "d      James    NaN         3      no\n",
      "e      Emily    9.0         2      no\n",
      "f    Michael   20.0         3     yes\n",
      "g    Matthew   14.5         1     yes\n",
      "h      Laura    NaN         1      no\n",
      "i      Kevin    8.0         2      no\n",
      "j      Jonas   19.0         1     yes \n",
      "\n",
      "\n",
      " After deleting 'Attempts' column : \n",
      "\n",
      "        name  score qualify\n",
      "a  Anastasia   12.5     yes\n",
      "b       Dima    9.0      no\n",
      "c  Katherine   16.5     yes\n",
      "d      James    NaN      no\n",
      "e      Emily    9.0      no\n",
      "f    Michael   20.0     yes\n",
      "g    Matthew   14.5     yes\n",
      "h      Laura    NaN      no\n",
      "i      Kevin    8.0      no\n",
      "j      Jonas   19.0     yes\n"
     ]
    }
   ],
   "source": [
    "exam_data  = {'name': ['Anastasia', 'Dima', 'Katherine', 'James', 'Emily', 'Michael', 'Matthew', 'Laura', 'Kevin', 'Jonas'],\n",
    "        'score': [12.5, 9, 16.5, np.nan, 9, 20, 14.5, np.nan, 8, 19],\n",
    "        'attempts': [1, 3, 2, 3, 2, 3, 1, 1, 2, 1],\n",
    "        'qualify': ['yes', 'no', 'yes', 'no', 'no', 'yes', 'yes', 'no', 'no', 'yes']}\n",
    "labels = ['a', 'b', 'c', 'd', 'e', 'f', 'g', 'h', 'i', 'j']\n",
    "a = pd.DataFrame(exam_data , index=labels)\n",
    "print(\"Original:\")\n",
    "print(a , '\\n')\n",
    "print(\"\\n After deleting 'Attempts' column : \\n\")\n",
    "a.drop(columns = ['attempts'], inplace = True)\n",
    "print(a)"
   ]
  },
  {
   "cell_type": "markdown",
   "metadata": {},
   "source": [
    "### TASK 09. Write a Pandas program to insert a new column in existing DataFrame."
   ]
  },
  {
   "cell_type": "code",
   "execution_count": 19,
   "metadata": {},
   "outputs": [
    {
     "name": "stdout",
     "output_type": "stream",
     "text": [
      "Original rows:\n",
      "        name  score  attempts qualify\n",
      "a  Anastasia   12.5         1     yes\n",
      "b       Dima    9.0         3      no\n",
      "c  Katherine   16.5         2     yes\n",
      "d      James    NaN         3      no\n",
      "e      Emily    9.0         2      no\n",
      "f    Michael   20.0         3     yes\n",
      "g    Matthew   14.5         1     yes\n",
      "h      Laura    NaN         1      no\n",
      "i      Kevin    8.0         2      no\n",
      "j      Jonas   19.0         1     yes\n",
      "\n",
      " New DataFrame after inserting the 'city' column is \n",
      "\n",
      "        name  score  attempts qualify       city\n",
      "a  Anastasia   12.5         1     yes      Delhi\n",
      "b       Dima    9.0         3      no     Mumbai\n",
      "c  Katherine   16.5         2     yes      Delhi\n",
      "d      James    NaN         3      no     Pataya\n",
      "e      Emily    9.0         2      no     Sydney\n",
      "f    Michael   20.0         3     yes  Melbourne\n",
      "g    Matthew   14.5         1     yes     London\n",
      "h      Laura    NaN         1      no     London\n",
      "i      Kevin    8.0         2      no  Amsterdam\n",
      "j      Jonas   19.0         1     yes   New York\n"
     ]
    }
   ],
   "source": [
    "exam_data  = {'name': ['Anastasia', 'Dima', 'Katherine', 'James', 'Emily', 'Michael', 'Matthew', 'Laura', 'Kevin', 'Jonas'],\n",
    "        'score': [12.5, 9, 16.5, np.nan, 9, 20, 14.5, np.nan, 8, 19],\n",
    "        'attempts': [1, 3, 2, 3, 2, 3, 1, 1, 2, 1],\n",
    "        'qualify': ['yes', 'no', 'yes', 'no', 'no', 'yes', 'yes', 'no', 'no', 'yes']}\n",
    "labels = ['a', 'b', 'c', 'd', 'e', 'f', 'g', 'h', 'i', 'j']\n",
    "a = pd.DataFrame(exam_data , index=labels)\n",
    "print(\"Original rows:\")\n",
    "print(a)\n",
    "city = ['Delhi','Mumbai','Delhi','Pataya','Sydney','Melbourne','London','London','Amsterdam','New York']\n",
    "a['city'] = city\n",
    "print(\"\\n New DataFrame after inserting the 'city' column is \\n\")\n",
    "print(a)\n"
   ]
  },
  {
   "cell_type": "markdown",
   "metadata": {},
   "source": [
    "### TASK 10. Write a Pandas program to get list from DataFrame column headers."
   ]
  },
  {
   "cell_type": "code",
   "execution_count": 23,
   "metadata": {},
   "outputs": [
    {
     "name": "stdout",
     "output_type": "stream",
     "text": [
      "        name  score  attempts qualify\n",
      "a  Anastasia   12.5         1     yes\n",
      "b       Dima    9.0         3      no\n",
      "c  Katherine   16.5         2     yes\n",
      "d      James    NaN         3      no\n",
      "e      Emily    9.0         2      no\n",
      "f    Michael   20.0         3     yes\n",
      "g    Matthew   14.5         1     yes\n",
      "h      Laura    NaN         1      no\n",
      "i      Kevin    8.0         2      no\n",
      "j      Jonas   19.0         1     yes\n",
      "\n",
      " List of DataFrame column headers are \n",
      "['name', 'score', 'attempts', 'qualify']\n",
      "name         object\n",
      "score       float64\n",
      "attempts      int64\n",
      "qualify      object\n",
      "dtype: object\n"
     ]
    }
   ],
   "source": [
    "exam_data  = {'name': ['Anastasia', 'Dima', 'Katherine', 'James', 'Emily', 'Michael', 'Matthew', 'Laura', 'Kevin', 'Jonas'],\n",
    "        'score': [12.5, 9, 16.5, np.nan, 9, 20, 14.5, np.nan, 8, 19],\n",
    "        'attempts': [1, 3, 2, 3, 2, 3, 1, 1, 2, 1],\n",
    "        'qualify': ['yes', 'no', 'yes', 'no', 'no', 'yes', 'yes', 'no', 'no', 'yes']}\n",
    "labels = ['a', 'b', 'c', 'd', 'e', 'f', 'g', 'h', 'i', 'j']\n",
    "a = pd.DataFrame(exam_data , index=labels)\n",
    "print(a)\n",
    "print(\"\\n List of DataFrame column headers are \")\n",
    "print(list(a.columns))\n",
    "print(a.dtypes)"
   ]
  },
  {
   "cell_type": "markdown",
   "metadata": {},
   "source": [
    "### TASK 11.  Write a Pandas program to get the datatypes of columns of a DataFrame."
   ]
  },
  {
   "cell_type": "code",
   "execution_count": 25,
   "metadata": {},
   "outputs": [
    {
     "name": "stdout",
     "output_type": "stream",
     "text": [
      "        name  score  attempts qualify\n",
      "a  Anastasia   12.5         1     yes\n",
      "b       Dima    9.0         3      no\n",
      "c  Katherine   16.5         2     yes\n",
      "d      James    NaN         3      no\n",
      "e      Emily    9.0         2      no\n",
      "f    Michael   20.0         3     yes\n",
      "g    Matthew   14.5         1     yes\n",
      "h      Laura    NaN         1      no\n",
      "i      Kevin    8.0         2      no\n",
      "j      Jonas   19.0         1     yes\n",
      "\n",
      " List of DataFrame column headers are \n",
      "['name', 'score', 'attempts', 'qualify'] \n",
      "\n",
      "Datatypes\n",
      "\n",
      "name         object\n",
      "score       float64\n",
      "attempts      int64\n",
      "qualify      object\n",
      "dtype: object\n"
     ]
    }
   ],
   "source": [
    "exam_data  = {'name': ['Anastasia', 'Dima', 'Katherine', 'James', 'Emily', 'Michael', 'Matthew', 'Laura', 'Kevin', 'Jonas'],\n",
    "        'score': [12.5, 9, 16.5, np.nan, 9, 20, 14.5, np.nan, 8, 19],\n",
    "        'attempts': [1, 3, 2, 3, 2, 3, 1, 1, 2, 1],\n",
    "        'qualify': ['yes', 'no', 'yes', 'no', 'no', 'yes', 'yes', 'no', 'no', 'yes']}\n",
    "labels = ['a', 'b', 'c', 'd', 'e', 'f', 'g', 'h', 'i', 'j']\n",
    "a = pd.DataFrame(exam_data , index=labels)\n",
    "print(a)\n",
    "print(\"\\n List of DataFrame column headers are \")\n",
    "print(list(a.columns), '\\n')\n",
    "print('Datatypes\\n')\n",
    "print(a.dtypes)"
   ]
  },
  {
   "cell_type": "markdown",
   "metadata": {},
   "source": [
    "### TASK 12. Write a Pandas program to insert a given column at a specific column index in a DataFrame & count number of columns of a DataFrame."
   ]
  },
  {
   "cell_type": "code",
   "execution_count": 31,
   "metadata": {},
   "outputs": [
    {
     "name": "stdout",
     "output_type": "stream",
     "text": [
      "     Players\n",
      "0  Cristiano\n",
      "1      Mesut\n",
      "2    Sanchez\n",
      "3     Lionel\n",
      "4     Thomas\n",
      "\n",
      "\n",
      "   Jersey    Players\n",
      "0       1  Cristiano\n",
      "1       2      Mesut\n",
      "2       3    Sanchez\n",
      "3       4     Lionel\n",
      "4       5     Thomas\n"
     ]
    }
   ],
   "source": [
    "x = {'Players': ['Cristiano', 'Mesut', 'Sanchez', 'Lionel', 'Thomas']}\n",
    "\n",
    "a = pd.DataFrame(x)\n",
    "\n",
    "print(a)\n",
    "\n",
    "y = [1, 2, 3, 4, 5]\n",
    "\n",
    "a.insert(loc=0,column='Jersey', value= y) \n",
    "\n",
    "print('\\n')\n",
    "print(a)"
   ]
  },
  {
   "cell_type": "code",
   "execution_count": 32,
   "metadata": {},
   "outputs": [],
   "source": [
    "### TASK 13. Write a Pandas program to get first and last n records of a DataFrame."
   ]
  },
  {
   "cell_type": "code",
   "execution_count": null,
   "metadata": {},
   "outputs": [
    {
     "name": "stdout",
     "output_type": "stream",
     "text": [
      "     Players\n",
      "0  Cristiano\n",
      "1      Mesut\n",
      "2    Sanchez\n",
      "3     Lionel\n",
      "4     Thomas\n",
      "\n",
      "\n"
     ]
    }
   ],
   "source": [
    "x = {'Players': ['Cristiano', 'Mesut', 'Sanchez', 'Lionel', 'Thomas']}\n",
    "\n",
    "a = pd.DataFrame(x)\n",
    "\n",
    "print(a)\n",
    "\n",
    "print('\\n')\n",
    "n = int(input('Enter a number for first n records:'))\n",
    "print('\\nFirst Record:')\n",
    "print(a.head(n))\n",
    "\n",
    "print('\\n')\n",
    "n = int(input('Enter a number for Last n records:'))\n",
    "print('\\nLast Record:')\n",
    "print(a.tail(n))"
   ]
  },
  {
   "cell_type": "code",
   "execution_count": null,
   "metadata": {},
   "outputs": [],
   "source": []
  }
 ],
 "metadata": {
  "kernelspec": {
   "display_name": "Python 3",
   "language": "python",
   "name": "python3"
  },
  "language_info": {
   "codemirror_mode": {
    "name": "ipython",
    "version": 3
   },
   "file_extension": ".py",
   "mimetype": "text/x-python",
   "name": "python",
   "nbconvert_exporter": "python",
   "pygments_lexer": "ipython3",
   "version": "3.8.6"
  }
 },
 "nbformat": 4,
 "nbformat_minor": 4
}
